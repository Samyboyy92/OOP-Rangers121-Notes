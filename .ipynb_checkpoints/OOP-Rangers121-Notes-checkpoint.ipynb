{
 "cells": [
  {
   "cell_type": "markdown",
   "metadata": {},
   "source": [
    "# Object-Oriented-Programming (OOP)"
   ]
  },
  {
   "cell_type": "markdown",
   "metadata": {},
   "source": [
    "## Tasks Today:\n",
    "\n",
    "   \n",
    "\n",
    "1) <b>Creating a Class (Initializing/Declaring)</b> <br>\n",
    "2) <b>Using a Class (Instantiating)</b> <br>\n",
    " &nbsp;&nbsp;&nbsp;&nbsp; a) Creating One Instance <br>\n",
    " &nbsp;&nbsp;&nbsp;&nbsp; b) Creating Multiple Instances <br>\n",
    " &nbsp;&nbsp;&nbsp;&nbsp; c) In-Class Exercise #1 - Create a Class 'Car' and instantiate three different makes of cars <br>\n",
    "3) <b>The \\__init\\__() Method</b> <br>\n",
    " &nbsp;&nbsp;&nbsp;&nbsp; a) The 'self' Attribute <br>\n",
    "4) <b>Class Attributes</b> <br>\n",
    " &nbsp;&nbsp;&nbsp;&nbsp; a) Initializing Attributes <br>\n",
    " &nbsp;&nbsp;&nbsp;&nbsp; b) Setting an Attribute Outside of the \\__init\\__() Method <br>\n",
    " &nbsp;&nbsp;&nbsp;&nbsp; c) Setting Defaults for Attributes <br>\n",
    " &nbsp;&nbsp;&nbsp;&nbsp; d) Accessing Class Attributes <br>\n",
    " &nbsp;&nbsp;&nbsp;&nbsp; e) Changing Class Attributes <br>\n",
    " &nbsp;&nbsp;&nbsp;&nbsp; f) In-Class Exercise #2 - Add a color and wheels attribute to your 'Car' class <br>\n",
    "5) <b>Class Methods</b> <br>\n",
    " &nbsp;&nbsp;&nbsp;&nbsp; a) Creating <br>\n",
    " &nbsp;&nbsp;&nbsp;&nbsp; b) Calling <br>\n",
    " &nbsp;&nbsp;&nbsp;&nbsp; c) Modifying an Attribute's Value Through a Method <br>\n",
    " &nbsp;&nbsp;&nbsp;&nbsp; d) Incrementing an Attribute's Value Through a Method <br>\n",
    " &nbsp;&nbsp;&nbsp;&nbsp; e) In-Class Exercise #3 - Add a method that prints the cars color and wheel number, then call them <br>\n",
    "6) <b>Inheritance</b> <br>\n",
    " &nbsp;&nbsp;&nbsp;&nbsp; a) Syntax for Inheriting from a Parent Class <br>\n",
    " &nbsp;&nbsp;&nbsp;&nbsp; b) The \\__init\\__() Method for a Child Class (super()) <br>\n",
    " &nbsp;&nbsp;&nbsp;&nbsp; c) Defining Attributes and Methods for the Child Class <br>\n",
    " &nbsp;&nbsp;&nbsp;&nbsp; d) Method Overriding <br>\n",
    " &nbsp;&nbsp;&nbsp;&nbsp; e) In-Class Exercise #4 - Create a class 'Ford' that inherits from 'Car' class and initialize it as a Blue Ford Explorer with 4 wheels using the super() method <br>\n",
    "7) <b>Classes as Attributes</b> <br>\n",
    "8) <b>Exercises</b> <br>\n",
    " &nbsp;&nbsp;&nbsp;&nbsp; a) Exercise #1 - Turn the shopping cart program from last week into an object-oriented program <br>"
   ]
  },
  {
   "cell_type": "markdown",
   "metadata": {},
   "source": [
    "## Creating a Class (Initializing/Declaring)\n",
    "<p>When creating a class, function, or even a variable you are initializing that object. Initializing and Declaring occur at the same time in Python, whereas in lower level languages you have to declare an object before initializing it. This is the first step in the process of using a class.</p>"
   ]
  },
  {
   "cell_type": "code",
   "execution_count": null,
   "metadata": {},
   "outputs": [],
   "source": [
    "class Car():\n",
    "    wheels = 4\n",
    "    color = \"blue\"\n",
    "    "
   ]
  },
  {
   "cell_type": "markdown",
   "metadata": {},
   "source": [
    "## Using a Class (Instantiating)\n",
    "<p>The process of creating a class is called <i>Instantiating</i>. Each time you create a variable of that type of class, it is referred to as an <i>Instance</i> of that class. This is the second step in the process of using a class.</p>"
   ]
  },
  {
   "cell_type": "markdown",
   "metadata": {},
   "source": [
    "##### Creating One Instance"
   ]
  },
  {
   "cell_type": "code",
   "execution_count": null,
   "metadata": {},
   "outputs": [],
   "source": [
    "ford = Car()\n",
    "print(ford.wheels)\n",
    "print(ford.color)"
   ]
  },
  {
   "cell_type": "markdown",
   "metadata": {},
   "source": [
    "##### Creating Multiple Instances"
   ]
  },
  {
   "cell_type": "code",
   "execution_count": null,
   "metadata": {},
   "outputs": [],
   "source": [
    "mazda = Car()\n",
    "honda = Car()\n",
    "chevy = Car()\n",
    "\n",
    "print(mazda.color)\n",
    "print(honda.color)\n",
    "print(chevy.color)"
   ]
  },
  {
   "cell_type": "markdown",
   "metadata": {},
   "source": [
    "##### In-Class Exercise #1 - Create a Class 'Car' and Instantiate three different makes of cars"
   ]
  },
  {
   "cell_type": "code",
   "execution_count": null,
   "metadata": {},
   "outputs": [],
   "source": [
    "class Car():\n",
    "    wheels = 4\n",
    "    color = \"grey\"\n",
    "    model = \"equinox\""
   ]
  },
  {
   "cell_type": "code",
   "execution_count": null,
   "metadata": {},
   "outputs": [],
   "source": [
    "chevy = Car()\n",
    "\n",
    "print(chevy.model)"
   ]
  },
  {
   "cell_type": "code",
   "execution_count": null,
   "metadata": {},
   "outputs": [],
   "source": []
  },
  {
   "cell_type": "code",
   "execution_count": null,
   "metadata": {},
   "outputs": [],
   "source": []
  },
  {
   "cell_type": "markdown",
   "metadata": {},
   "source": [
    "## The \\__init\\__() Method <br>\n",
    "<p>This method is used in almost every created class, and called only once upon the creation of the class instance. This method will initialize all variables needed for the object.</p>"
   ]
  },
  {
   "cell_type": "code",
   "execution_count": null,
   "metadata": {},
   "outputs": [],
   "source": [
    "class Car():\n",
    "    def __init__(self, wheels, color, doors):\n",
    "        self.wheels = wheels\n",
    "        self.color = color\n",
    "        self.doors = doors\n",
    "        \n",
    "mazda = Car(4, \"blue\", 4)\n",
    "print(mazda.wheels)\n",
    "print(mazda.color)\n",
    "print(mazda.doors)\n",
    "\n",
    "honda = Car(4, \"red\", 5)\n",
    "print(honda.color)\n",
    "print(honda.doors)\n",
    "\n",
    "yamaha = Car(2, \"black\", 0)\n",
    "print(yamaha.color)"
   ]
  },
  {
   "cell_type": "markdown",
   "metadata": {},
   "source": [
    "##### The 'self' Attribute <br>\n",
    "<p>This attribute is required to keep track of specific instance's attributes. Without the self attribute, the program would not know how to reference or keep track of an instance's attributes.</p>"
   ]
  },
  {
   "cell_type": "code",
   "execution_count": null,
   "metadata": {},
   "outputs": [],
   "source": [
    "class Pokemon():\n",
    "    def __init__(self, name, type_):\n",
    "        #self is going to refernce back to the obeject/instance of our class\n",
    "        self.name = name\n",
    "        self.type = type_\n",
    "        \n",
    "    def print_info(self):\n",
    "        print(f\"This is {self.name}. It is a {self.type} type.\")\n",
    "        \n",
    "charmander = Pokemon(\"Charmander\", \"fire\")\n",
    "squirtle = Pokemon(\"Squirtle\", \"water\")\n",
    "\n",
    "print(charmander.name)\n",
    "print(squirtle.name)\n",
    "\n",
    "#print_infor(charmander)\n",
    "\n",
    "charmander.print_info()\n",
    "squirtle.print_info()"
   ]
  },
  {
   "cell_type": "markdown",
   "metadata": {},
   "source": [
    "## Class Attributes <br>\n",
    "<p>While variables are inside of a class, they are referred to as attributes and not variables. When someone says 'attribute' you know they're speaking about a class. Attributes can be initialized through the init method, or outside of it.</p>"
   ]
  },
  {
   "cell_type": "markdown",
   "metadata": {},
   "source": [
    "##### Initializing Attributes"
   ]
  },
  {
   "cell_type": "code",
   "execution_count": null,
   "metadata": {},
   "outputs": [],
   "source": [
    "class Pokemon():\n",
    "    def __init__(self, name, type_):\n",
    "        #self is going to refernce back to the obeject/instance of our class\n",
    "        self.name = name\n",
    "        self.type = type_\n",
    "        \n",
    "    def print_info(self):\n",
    "        print(f\"This is {self.name}. It is a {self.type} type.\")\n",
    "\n",
    "bulbasaur = Pokemon(\"Bulbasaur\", \"grass\")"
   ]
  },
  {
   "cell_type": "markdown",
   "metadata": {},
   "source": [
    "##### Accessing Class Attributes"
   ]
  },
  {
   "cell_type": "code",
   "execution_count": null,
   "metadata": {
    "scrolled": true
   },
   "outputs": [],
   "source": [
    "print(bulbasaur.name)\n",
    "print(bulbasaur.type)\n",
    "\n",
    "#__dict__\n",
    "print(bulbasaur.__dict__)\n",
    "print(dir(bulbasaur))"
   ]
  },
  {
   "cell_type": "markdown",
   "metadata": {},
   "source": [
    "##### Setting Defaults for Attributes"
   ]
  },
  {
   "cell_type": "code",
   "execution_count": null,
   "metadata": {
    "scrolled": true
   },
   "outputs": [],
   "source": [
    "class Car():\n",
    "    def __init__(self, wheels):\n",
    "        self.wheels = wheels\n",
    "        self.color = \"Blue\"\n",
    "        \n",
    "honda = Car(4)\n",
    "print(honda.wheels)\n",
    "print(honda.color)"
   ]
  },
  {
   "cell_type": "code",
   "execution_count": null,
   "metadata": {},
   "outputs": [],
   "source": [
    "class Car():\n",
    "    def __init__(self, wheels, ):\n",
    "        self.wheels = wheels\n",
    "        self.color = \"Blue\""
   ]
  },
  {
   "cell_type": "markdown",
   "metadata": {},
   "source": [
    "##### Changing Class Attributes <br>\n",
    "<p>Keep in mind there are global class attributes and then there are attributes only available to each class instance which won't effect other classes.</p>"
   ]
  },
  {
   "cell_type": "code",
   "execution_count": null,
   "metadata": {},
   "outputs": [],
   "source": [
    "class Car():\n",
    "    def __init__(self, wheels):\n",
    "        self.wheels = wheels\n",
    "        self.color = \"Blue\"\n",
    "        \n",
    "honda = Car(4)\n",
    "print(honda.wheels)\n",
    "print(honda.color)\n",
    "\n",
    "# subaru = Car(4, \"orange\") <--- give type error for too mnay arguments\n",
    "\n",
    "subaru = Car(4)\n",
    "print(f\"Before attribute change {subaru.color}\")\n",
    "subaru.color = 'orange'\n",
    "print(f\"After attribute change {subaru.color}\")\n",
    "print(subaru.wheels)\n",
    "subaru.wheels = 6\n",
    "print(subaru.wheels)"
   ]
  },
  {
   "cell_type": "code",
   "execution_count": null,
   "metadata": {},
   "outputs": [],
   "source": []
  },
  {
   "cell_type": "markdown",
   "metadata": {},
   "source": [
    "##### In-Class Exercise #2 - Add two new attributes to your 'Car' class then print out two different instances with different doors and seats. Then take that bad boy to the shop and change those attributes. Either with an input or just by changing them"
   ]
  },
  {
   "cell_type": "code",
   "execution_count": null,
   "metadata": {},
   "outputs": [],
   "source": [
    "class Car():\n",
    "    def __init__(self, wheels, model, color, doors, seats):\n",
    "        self.wheels = 4\n",
    "        self.model = \"equinox\"\n",
    "        self.color = \"grey\"\n",
    "        self.doors = 2\n",
    "        self.seats = 4\n",
    "        \n",
    "# chevy = Car(4, 4, 2)\n",
    " print(f\"{self.model} has {self.doors} doors and {self.seats} seats before changing attributes.\")\n",
    "        \n",
    "    def after_change(self):\n",
    "        return(f\"{self.model} has {self.doors} doors and {self.seats} seats after changing attributes.\")"
   ]
  },
  {
   "cell_type": "markdown",
   "metadata": {},
   "source": [
    "## Class Methods <br>\n",
    "<p>While inside of a class, functions are referred to as 'methods'. If you hear someone mention methods, they're speaking about classes. Methods are essentially functions, but only callable on the instances of a class.</p>"
   ]
  },
  {
   "cell_type": "markdown",
   "metadata": {},
   "source": [
    "##### Creating"
   ]
  },
  {
   "cell_type": "code",
   "execution_count": null,
   "metadata": {},
   "outputs": [],
   "source": [
    "class Bus():\n",
    "    \"\"\"\n",
    "    The Bus will have doors, seats, seats available, color, and a bus drive\n",
    "    Attributes for the bus\n",
    "    -doors: integar\n",
    "    -seats: integar\n",
    "    -seats available: integar\n",
    "    -color: string\n",
    "    -bus_driver: string\n",
    "    \"\"\"\n",
    "    \n",
    "    def __init__(self, doors, seats, seats_available, color, bus_driver):\n",
    "            self.doors = doors\n",
    "            self.seats = seats\n",
    "            self.seats_available = seats_available\n",
    "            self.color = color\n",
    "            self.bus_driver = bus_driver\n",
    "        \n",
    "    #decrement the number of seats available\n",
    "    def load_passengers(self):\n",
    "        if self.seats_available <= 0:\n",
    "            print(\"This bus is full! You can't take anymore passengers! :(\")\n",
    "            if self.seats_available < 0:\n",
    "                print(f\"You left {abs(self.seats_available)} by the road! \")\n",
    "                self.seats_available = 0\n",
    "        else:\n",
    "            passengers = int(input(\"How many passengers are getting on? \"))\n",
    "            self.seats_available -= passengers\n",
    "            if self.seats_available < 0:\n",
    "                print(f\"You have left {abs(self.seats_abvailable)} by the road!\")\n",
    "                self.seats_available = 0\n",
    "            print(f\"{passengers} passengers have boarded. There are {self.seats_available} seats left on the bus! \")\n",
    "            \n",
    "    #increment the number of seats available\n",
    "    def unload_passengers(self):\n",
    "        if self.seats_available >= self.seats:\n",
    "            print(\"There is no one left to get off the bus! \")\n",
    "        else:\n",
    "            unload = int(input(\"How many passengers are getting off the bus? \"))\n",
    "            self.seats_available += unload\n",
    "            if self.seats_available >= self.seats:\n",
    "                self.seats_available = self.seats\n",
    "                \n",
    "            print(f\"{unload} passengers have got off the bus! There are {self.seats_available} left.\")\n",
    "            \n",
    "    #change the bus driver attribute\n",
    "    def change_driver(self):\n",
    "        change = input(\"Who is replacing you? \")\n",
    "        self.bus_driver = change\n",
    "        print(f\"The new bus driver is {self.bus_driver}. Be sure to thank them! \")\n",
    "        \n",
    "    #display available seats\n",
    "    def check_seats(self):\n",
    "        print(f\"There are {self.seats_available} seats available)\")\n",
    "        \n",
    "    #display bus color\n",
    "    def admire_bus(self):\n",
    "        print(f\"Would ya just look at that beautiful {self.color} bus! WOULD YA JUST LOOK AT IT!\")\n",
    "            \n",
    "    "
   ]
  },
  {
   "cell_type": "markdown",
   "metadata": {},
   "source": [
    "##### Calling"
   ]
  },
  {
   "cell_type": "code",
   "execution_count": null,
   "metadata": {},
   "outputs": [],
   "source": [
    "#instance_variale.method()\n",
    "def run():\n",
    "    ryan_bus = Bus(2, 90, 45, \"yellow\", \"Ryan\")\n",
    "    \n",
    "    while True:\n",
    "        response = input(\"What would you like to do? Load/Unload/Change Driver/Check Seats/Admire/Quit?\").lower()\n",
    "        if response == \"quit\":\n",
    "            print(\"OH NO! There are still passengers to be picked up! Pls don't abandon them!\")\n",
    "            break\n",
    "        elif response == \"load\":\n",
    "            ryan_bus.load_passengers()\n",
    "        \n",
    "        elif response == \"unload\":\n",
    "            ryan_bus.unload_passengers()\n",
    "            \n",
    "        elif response == \"change driver\":\n",
    "            ryan_bus.change_driver()\n",
    "        \n",
    "        elif response == \"check seats\":\n",
    "            ryan_bus.check_seats()\n",
    "        \n",
    "        elif response == \"admire\":\n",
    "            ryan_bus.admire_bus()\n",
    "        \n",
    "        else: \n",
    "            print(\"That is not a valid response. Please pick from the list!\")\n",
    "\n",
    "        \n",
    "run()"
   ]
  },
  {
   "cell_type": "markdown",
   "metadata": {},
   "source": [
    "##### Modifying an Attribute's Value Through a Method"
   ]
  },
  {
   "cell_type": "code",
   "execution_count": null,
   "metadata": {},
   "outputs": [],
   "source": [
    "# see above\n",
    "# load_passengers()\n",
    "# unload_passengers()\n",
    "# change_driver()"
   ]
  },
  {
   "cell_type": "markdown",
   "metadata": {},
   "source": [
    "##### Incrementing an Attribute's Value Through a Method"
   ]
  },
  {
   "cell_type": "code",
   "execution_count": null,
   "metadata": {},
   "outputs": [],
   "source": [
    "#unload_passengers()"
   ]
  },
  {
   "cell_type": "markdown",
   "metadata": {},
   "source": [
    "##### In-Class Exercise #3 - Add a method that takes in three parameters of year, doors and seats and prints out a formatted print statement with make, model, year, seats, and doors"
   ]
  },
  {
   "cell_type": "code",
   "execution_count": null,
   "metadata": {},
   "outputs": [],
   "source": [
    "# Create class with 2 paramters inside of the __init__ which are make and model, more if you'd like\n",
    "\n",
    "# Create two methods for your class\n",
    "\n",
    "# Create a method that alters an attribute for your class\n",
    "\n",
    "# Display method that prints information about the vehicle\n",
    "\n",
    "# Output: This car is from 2019 and is a Ford Expolorer and has 4 doors and 5 seats\n",
    "\n",
    "# reminder in order to call class methods object.method()\n",
    "\n",
    "class Car():\n",
    "\n",
    "    def __init__(self, make, model):\n",
    "        self.make = make\n",
    "        self.model = model\n",
    "        self.color = \"grey\"\n",
    "        \n",
    "chevy = Car()\n",
    "print(f\"Before attribute change {chevy.color}\")\n",
    "chevy.color = 'black'\n",
    "print(f\"After attribute change {chevy.color}\")\n",
    "\n",
    "    \n",
    "\n",
    "\n"
   ]
  },
  {
   "cell_type": "code",
   "execution_count": null,
   "metadata": {},
   "outputs": [],
   "source": [
    "class Car():\n",
    "    def __init__(self, model, year, doors, seats):\n",
    "        self.model = model\n",
    "        self.year = year\n",
    "        self.doors = doors\n",
    "        self.seats = seats\n",
    "        \n",
    "    def add_seats(self):\n",
    "        seats = int(input(\"How many seats would you like to add? \"))\n",
    "        self.seats += seats\n",
    "        \n",
    "    def remove_seats(self):\n",
    "        seats = int(input(\"How many seats would you like to remove?\"))\n",
    "        self.seats -= seats\n",
    "    \n",
    "mazda = Car(\"Mazda\", 2020, 4, 5)\n",
    "\n",
    "print(mazda.seats)\n",
    "mazda.add_seats()\n",
    "print(mazda.seats)\n",
    "mazda.remove_seats()\n",
    "print(mazda.seats)"
   ]
  },
  {
   "cell_type": "code",
   "execution_count": null,
   "metadata": {},
   "outputs": [],
   "source": [
    "class Pokedex():\n",
    "    def __init__(self, nickname, species, type_):\n",
    "        self.nickname = nickname\n",
    "        self.species = species\n",
    "        self.type_ = type_\n",
    "        self.gender = gender\n",
    "    \n",
    "    def cry(self):\n",
    "        print(f\"{self.species.title()}, {self.species}!\")\n",
    "        \n",
    "    def display_Pokemon(self):\n",
    "        print(f\"Your Pokemon {self.nickname} is a {self.type_} type {self.species}.\")\n",
    "              \n",
    "    def name_Rater(self):\n",
    "        new_name = input(\"What would you like your Pokemon's new nickname to be? \")\n",
    "        self.nickname = new_name\n",
    "        print(f\"Your Pokemon's new nickname is {self.nickname}\")\n",
    "\n",
    "#example \n",
    "charmander = Pokedex(\"Disco Inferno\", \"Charmander\", \"fire\")\n",
    "\n",
    "charmander.cry()\n",
    "charmander.display_Pokemon()\n",
    "charmander.name_Rater()\n",
    "\n",
    "charmander.display_Pokemon()"
   ]
  },
  {
   "cell_type": "markdown",
   "metadata": {},
   "source": [
    "## Inheritance <br>\n",
    "<p>You can create a child-parent relationship between two classes by using inheritance. What this allows you to do is have overriding methods, but also inherit traits from the parent class. Think of it as an actual parent and child, the child will inherit the parent's genes, as will the classes in OOP</p>"
   ]
  },
  {
   "cell_type": "markdown",
   "metadata": {},
   "source": [
    "##### Syntax for Inheriting from a Parent Class"
   ]
  },
  {
   "cell_type": "code",
   "execution_count": null,
   "metadata": {},
   "outputs": [],
   "source": [
    "#create a parent class\n",
    "class Animal():\n",
    "    acceleration = 9.8\n",
    "    def __init__(self, name, species, legs = 4):\n",
    "        self.name = name\n",
    "        self.species = species\n",
    "        self.legs = legs\n",
    "        \n",
    "    #generic parent method\n",
    "    def make_sound(self):\n",
    "        print(\"WAAAAAAAHHHHHHHH\")\n",
    "        \n",
    "#creation child class that inherits from Animal\n",
    "class Dog(Animal): #<-- inheited parent class goes in parentheses\n",
    "    speed = 15\n",
    "    def __init__(self, name, color, species, legs = 4):\n",
    "        super().__init__(name, species, legs) #passes over attributes from the parent class\n",
    "        self.color = color #attribute unique to the child class\n",
    "        \n",
    "        \n",
    "    def print_info(self): #method uniqe to the child class\n",
    "        print(f\"{self.name} runs at {self.speed} mph and accelerates at {self.acceleration} mps^2\")\n",
    "        \n",
    "#creation of the grandchild class\n",
    "class Mutt(Dog):\n",
    "    hypoallergenic = True\n",
    "    \n",
    "    #access the animal init through the dog init\n",
    "    def __init__(self, name, species, eye_color, color, legs = 4):\n",
    "        Dog.__init__(self, name, species, legs)\n",
    "        self.eye_color = eye_color #unique attribute to the grandchild class\n",
    "        \n",
    "    def make_sound(self): #override the Animal make_sound method\n",
    "        print(\"roooooooo\")\n",
    "    \n",
    "        \n",
    "        \n",
    "        "
   ]
  },
  {
   "cell_type": "code",
   "execution_count": null,
   "metadata": {},
   "outputs": [],
   "source": [
    "elephant = Animal(\"Jimbo\", \"elephant\")\n",
    "print(elephant.name)\n",
    "elephant.make_sound()\n",
    "print(elephant.legs)\n"
   ]
  },
  {
   "cell_type": "code",
   "execution_count": null,
   "metadata": {},
   "outputs": [],
   "source": [
    "thea = Dog(\"Thea\" , \"Pit\", 4, \"Brown, Brown, White\")\n",
    "print(thea.name)\n",
    "thea.make_sound()\n",
    "thea.print_info()\n",
    "\n"
   ]
  },
  {
   "cell_type": "code",
   "execution_count": null,
   "metadata": {},
   "outputs": [],
   "source": [
    "orion = Mutt(\"Orion\", \"Mutt\", \"brown\", \"black and white\", 4)\n",
    "print(orion.hypoallergenic)\n",
    "orion.hypoallergenic = False\n",
    "print(orion.hypoallergenic)\n",
    "orion.make_sound()\n",
    "print(orion.eye_color)"
   ]
  },
  {
   "cell_type": "markdown",
   "metadata": {},
   "source": [
    "##### The \\__init\\__() Method for a Child Class - super()"
   ]
  },
  {
   "cell_type": "code",
   "execution_count": null,
   "metadata": {
    "scrolled": true
   },
   "outputs": [],
   "source": [
    "#see dog class"
   ]
  },
  {
   "cell_type": "markdown",
   "metadata": {},
   "source": [
    "##### Defining Attributes and Methods for the Child Class"
   ]
  },
  {
   "cell_type": "code",
   "execution_count": null,
   "metadata": {},
   "outputs": [],
   "source": [
    "# See Above\n",
    "#animal class and dog class"
   ]
  },
  {
   "cell_type": "markdown",
   "metadata": {},
   "source": [
    "##### Method Overriding"
   ]
  },
  {
   "cell_type": "code",
   "execution_count": null,
   "metadata": {},
   "outputs": [],
   "source": [
    "# See Above\n",
    "# see "
   ]
  },
  {
   "cell_type": "markdown",
   "metadata": {},
   "source": [
    "## Classes as Attributes <br>\n",
    "<p>Classes can also be used as attributes within another class. This is useful in situations where you need to keep variables locally stored, instead of globally stored.</p>"
   ]
  },
  {
   "cell_type": "code",
   "execution_count": null,
   "metadata": {},
   "outputs": [],
   "source": [
    "class Battery():\n",
    "    VOLTZ = 7.8\n",
    "    \n",
    "    def __init__(self, cells):\n",
    "        self.cells = cells\n",
    "        \n",
    "    def __repr__(self):\n",
    "        return str(self.cells)\n",
    "        \n",
    "class Car():\n",
    "    def __init__(self, make, model, year, battery):\n",
    "        self.make = make\n",
    "        self.model = model\n",
    "        self.year = year\n",
    "        self.battery = battery\n",
    "        \n",
    "    def print_info(self):\n",
    "        print(f\"{self.year} {self.make} {self.model} {self.battery}\")\n",
    "        \n",
    "        \n",
    "batt = Battery(20)\n",
    "\n",
    "porsche = Car(\"Porsche\", \"911 turbo\", 2023, batt)\n",
    "\n",
    "porsche.print_info()"
   ]
  },
  {
   "cell_type": "markdown",
   "metadata": {},
   "source": [
    "<b>Generators in classes</b>"
   ]
  },
  {
   "cell_type": "code",
   "execution_count": null,
   "metadata": {},
   "outputs": [],
   "source": [
    "class Movie():\n",
    "    def __init__(self):\n",
    "        self.genres = [\"spooky\", \"adventure\", \"drama\", \"horror\", \"comedy\", \"action\", \"romance\"]\n",
    "        self.generator_object = self.yield_genres()\n",
    "        # method that yeilds generes for us\n",
    "        \n",
    "    def yield_genres(self):\n",
    "        for genre in self.genres:\n",
    "            yield genre\n",
    "            \n",
    "    def show_genres(self):\n",
    "        try:\n",
    "            return next(self.generator_object)\n",
    "        except:\n",
    "            print(\"no more genres\")\n",
    "            \n",
    "my_movie = Movie()"
   ]
  },
  {
   "cell_type": "code",
   "execution_count": null,
   "metadata": {},
   "outputs": [],
   "source": [
    "my_movie.show_genres()"
   ]
  },
  {
   "cell_type": "markdown",
   "metadata": {},
   "source": [
    "# Exercises"
   ]
  },
  {
   "cell_type": "markdown",
   "metadata": {},
   "source": [
    "### Exercise 1 - Turn the shopping cart program from last week into an object-oriented program\n",
    "\n",
    "The comments in the cell below are there as a guide for thinking about the problem. However, if you feel a different way is best for you and your own thought process, please do what feels best for you by all means."
   ]
  },
  {
   "cell_type": "code",
   "execution_count": 1,
   "metadata": {},
   "outputs": [
    {
     "name": "stdout",
     "output_type": "stream",
     "text": [
      "What would you like to do? (add, show, or delete) (enter 'quit' to end)add\n",
      "What are you adding to your cart? apples\n",
      "How many are you adding? 3\n",
      "3 appless have been added to your cart\n",
      "What would you like to do? (add, show, or delete) (enter 'quit' to end)add\n",
      "What are you adding to your cart? bread\n",
      "How many are you adding? 1\n",
      "1 breads have been added to your cart\n",
      "What would you like to do? (add, show, or delete) (enter 'quit' to end)show\n",
      "Sam's cart at Target\n",
      "apples 3\n",
      "bread 1\n",
      "What would you like to do? (add, show, or delete) (enter 'quit' to end)delete\n",
      "What items would you like to remove?1\n",
      "What would you like to do? (add, show, or delete) (enter 'quit' to end)show\n",
      "Sam's cart at Target\n",
      "apples 3\n",
      "bread 1\n",
      "What would you like to do? (add, show, or delete) (enter 'quit' to end)end\n",
      "Invalid option, please try again\n",
      "What would you like to do? (add, show, or delete) (enter 'quit' to end)quit\n",
      "Sam's cart at Target\n",
      "apples 3\n",
      "bread 1\n"
     ]
    }
   ],
   "source": [
    "# Create a class called cart that retains items and has methods to add, remove, and show\n",
    "\n",
    "class Cart():\n",
    "    def __init__(self, name, store):\n",
    "        self.name = name\n",
    "        self.store = store\n",
    "        self.cart = {}\n",
    "        \n",
    "    def add_items(self):\n",
    "        item = input(\"What are you adding to your cart? \")\n",
    "        quantity = input(\"How many are you adding? \")\n",
    "        self.cart[item] = quantity\n",
    "        print(f\"{quantity} {item}s have been added to your cart\" )\n",
    "        \n",
    "    def delete_items(self):\n",
    "        item = input(\"What items would you like to remove?\")\n",
    "        if item in self.cart:\n",
    "            print(f\"{item} have been successfully removed from your cart.\")\n",
    "            del self.cart[item]\n",
    "            print(f\"You currently have {self.cart} in your cart.\" )\n",
    "        else:\n",
    "            return f\"{item} is currently not in your cart.\"\n",
    "        \n",
    "    def show_cart(self):\n",
    "        print(f\"{self.name}'s cart at {self.store}\" )\n",
    "        for key, value in self.cart.items():\n",
    "            print(key, value)\n",
    "            \n",
    "    def runner(self):\n",
    "        while True:\n",
    "            choice = input(\"What would you like to do? (add, show, or delete) (enter 'quit' to end)\").lower()\n",
    "            if choice == 'quit':\n",
    "                self.show_cart()\n",
    "                break\n",
    "            elif choice == 'add':\n",
    "                self.add_items()\n",
    "            elif choice == 'delete':\n",
    "                self.delete_items()\n",
    "            elif choice == 'show':\n",
    "                self.show_cart()\n",
    "            else:\n",
    "                print(\"Invalid option, please try again\")\n",
    "                \n",
    "my_cart = Cart(\"Sam\", \"Target\")\n",
    "my_cart.runner()\n",
    "            \n",
    "            \n",
    "        \n",
    "    \n",
    "    "
   ]
  },
  {
   "cell_type": "markdown",
   "metadata": {},
   "source": [
    "### Exercise 2 - Write a Python class which has two methods get_String and print_String. get_String accept a string from the user and print_String print the string in upper case"
   ]
  },
  {
   "cell_type": "code",
   "execution_count": 9,
   "metadata": {},
   "outputs": [
    {
     "name": "stdout",
     "output_type": "stream",
     "text": [
      "COOL BEANS\n"
     ]
    }
   ],
   "source": [
    "class String():\n",
    "    def __init__(self, name):\n",
    "        self.name = name\n",
    "        \n",
    "    def get_String(self):\n",
    "        string = input(\"Type something: \")\n",
    "\n",
    "    def print_String(self, string):\n",
    "        print(str(string).upper())\n",
    "    \n",
    "sam = String(\"Sam\")\n",
    "sam.print_String('cool beans')"
   ]
  }
 ],
 "metadata": {
  "kernelspec": {
   "display_name": "Python 3 (ipykernel)",
   "language": "python",
   "name": "python3"
  },
  "language_info": {
   "codemirror_mode": {
    "name": "ipython",
    "version": 3
   },
   "file_extension": ".py",
   "mimetype": "text/x-python",
   "name": "python",
   "nbconvert_exporter": "python",
   "pygments_lexer": "ipython3",
   "version": "3.11.3"
  }
 },
 "nbformat": 4,
 "nbformat_minor": 2
}
